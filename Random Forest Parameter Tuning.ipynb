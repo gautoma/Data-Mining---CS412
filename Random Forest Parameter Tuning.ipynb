{
 "cells": [
  {
   "cell_type": "markdown",
   "id": "b5cf60e5",
   "metadata": {},
   "source": [
    "## Information:\n",
    "This script was used to tune the parameter of n_estimators for Random Forest Regressor.\n",
    "\n",
    "Just run all the cells and you will get the same results and time needed as we did."
   ]
  },
  {
   "cell_type": "markdown",
   "id": "09c22ca8",
   "metadata": {},
   "source": [
    "## Importing the libraries"
   ]
  },
  {
   "cell_type": "code",
   "execution_count": 38,
   "id": "14851d39",
   "metadata": {},
   "outputs": [],
   "source": [
    "import pandas as pd\n",
    "import numpy as np\n",
    "import matplotlib.pyplot as plt\n",
    "import seaborn as sns\n",
    "from sklearn.linear_model import LinearRegression\n",
    "from sklearn.preprocessing import scale\n",
    "from sklearn.cluster import DBSCAN\n",
    "from sklearn.metrics import mean_squared_error\n",
    "from sklearn.model_selection import train_test_split\n",
    "from math import sqrt\n",
    "import catboost as cb\n",
    "from sklearn.ensemble import RandomForestRegressor\n",
    "import time"
   ]
  },
  {
   "cell_type": "markdown",
   "id": "fbae853d",
   "metadata": {},
   "source": [
    "## Experiment 1: With value of n_estimators = 10"
   ]
  },
  {
   "cell_type": "code",
   "execution_count": 39,
   "id": "1a3273c4",
   "metadata": {},
   "outputs": [],
   "source": [
    "train_df=pd.read_csv('train.csv')\n",
    "test_df=pd.read_csv('test.csv')"
   ]
  },
  {
   "cell_type": "code",
   "execution_count": 40,
   "id": "54a7a44b",
   "metadata": {},
   "outputs": [],
   "source": [
    "#Creating Dummies for train Data\n",
    "dfen = pd.get_dummies(train_df[\"EntryHeading\"],prefix = 'en')\n",
    "dfex = pd.get_dummies(train_df[\"ExitHeading\"],prefix = 'ex')\n",
    "train_df = pd.concat([train_df,dfen],axis=1)\n",
    "train_df = pd.concat([train_df,dfex],axis=1)\n",
    "\n",
    "#Creating Dummies for test Data\n",
    "dfent = pd.get_dummies(test_df[\"EntryHeading\"],prefix = 'en')\n",
    "dfext = pd.get_dummies(test_df[\"ExitHeading\"],prefix = 'ex')\n",
    "test_df = pd.concat([test_df,dfent],axis=1)\n",
    "test_df = pd.concat([test_df,dfext],axis=1)"
   ]
  },
  {
   "cell_type": "code",
   "execution_count": 41,
   "id": "bf1fc7c3",
   "metadata": {},
   "outputs": [],
   "source": [
    "X = train_df[[\"IntersectionId\",\"Hour\",\"Weekend\",\"Month\",'en_E',\n",
    "       'en_N', 'en_NE', 'en_NW', 'en_S', 'en_SE', 'en_SW', 'en_W', 'ex_E',\n",
    "       'ex_N', 'ex_NE', 'ex_NW', 'ex_S', 'ex_SE', 'ex_SW', 'ex_W']]\n",
    "y1 = train_df[\"TotalTimeStopped_p20\"]\n",
    "y2 = train_df[\"TotalTimeStopped_p50\"]\n",
    "y3 = train_df[\"TotalTimeStopped_p80\"]\n",
    "y4 = train_df[\"DistanceToFirstStop_p20\"]\n",
    "y5 = train_df[\"DistanceToFirstStop_p50\"]\n",
    "y6 = train_df[\"DistanceToFirstStop_p80\"]\n",
    "\n",
    "testX = test_df[[\"IntersectionId\",\"Hour\",\"Weekend\",\"Month\",'en_E','en_N', 'en_NE', 'en_NW', 'en_S', \n",
    "              'en_SE', 'en_SW', 'en_W', 'ex_E','ex_N', 'ex_NE', 'ex_NW', 'ex_S', 'ex_SE', 'ex_SW', 'ex_W']]"
   ]
  },
  {
   "cell_type": "code",
   "execution_count": 42,
   "id": "dbeec073",
   "metadata": {},
   "outputs": [],
   "source": [
    "start = time.time()"
   ]
  },
  {
   "cell_type": "code",
   "execution_count": 43,
   "id": "5fd3fd45",
   "metadata": {},
   "outputs": [],
   "source": [
    "RMSE_b2 = []\n",
    "def randomforest(X,Y):\n",
    "    X_train, X_validate, y_train, y_validate = train_test_split(X, Y, test_size = 0.3, random_state = 23)\n",
    "    regressor = RandomForestRegressor(n_estimators = 10, random_state = 23)\n",
    "    regressor.fit(X_train, y_train)\n",
    "    y_pred = regressor.predict(X_validate)\n",
    "    return sqrt(mean_squared_error(y_validate, y_pred))"
   ]
  },
  {
   "cell_type": "code",
   "execution_count": 44,
   "id": "e1148bfd",
   "metadata": {},
   "outputs": [],
   "source": [
    "outcome = [y1,y2,y3,y4,y5,y6]\n",
    "for i in range(len(outcome)):\n",
    "    RMSE = randomforest(X,outcome[i])\n",
    "    RMSE_b2.append(RMSE)  "
   ]
  },
  {
   "cell_type": "code",
   "execution_count": 45,
   "id": "b3921dc0",
   "metadata": {},
   "outputs": [],
   "source": [
    "end = time.time()"
   ]
  },
  {
   "cell_type": "code",
   "execution_count": 46,
   "id": "db5dc6d1",
   "metadata": {},
   "outputs": [
    {
     "name": "stdout",
     "output_type": "stream",
     "text": [
      "Runtime of the program is 110.97777676582336\n"
     ]
    }
   ],
   "source": [
    "print(f\"Runtime of the program is {end - start}\")"
   ]
  },
  {
   "cell_type": "code",
   "execution_count": 47,
   "id": "f21b2783",
   "metadata": {},
   "outputs": [
    {
     "name": "stdout",
     "output_type": "stream",
     "text": [
      "[6.637570273929474, 12.257819557375088, 21.248678159348813, 29.188448062603182, 63.65486193578891, 113.93812529997912]\n",
      "\n",
      "Mean RMSE:  41.15425054817076\n"
     ]
    },
    {
     "data": {
      "image/png": "[encoded data removed]",
      "text/plain": [
       "<Figure size 432x288 with 1 Axes>"
      ]
     },
     "metadata": {
      "needs_background": "light"
     },
     "output_type": "display_data"
    }
   ],
   "source": [
    "print(RMSE_b2)\n",
    "print(\"\\nMean RMSE: \", np.mean(RMSE_b2))\n",
    "plt.plot(RMSE_b2)\n",
    "plt.title('RMSE for Baseline 2(Random Forest)')\n",
    "plt.xlabel('Target Variable')\n",
    "plt.ylabel('RMSE Value')\n",
    "plt.show()"
   ]
  },
  {
   "cell_type": "markdown",
   "id": "ec1c0909",
   "metadata": {},
   "source": [
    "## Experiment 2: With value of n_estimators = 50"
   ]
  },
  {
   "cell_type": "code",
   "execution_count": 48,
   "id": "e0e9cae7",
   "metadata": {},
   "outputs": [],
   "source": [
    "train_df=pd.read_csv('train.csv')\n",
    "test_df=pd.read_csv('test.csv')"
   ]
  },
  {
   "cell_type": "code",
   "execution_count": 49,
   "id": "fb872afb",
   "metadata": {},
   "outputs": [],
   "source": [
    "#Creating Dummies for train Data\n",
    "dfen = pd.get_dummies(train_df[\"EntryHeading\"],prefix = 'en')\n",
    "dfex = pd.get_dummies(train_df[\"ExitHeading\"],prefix = 'ex')\n",
    "train_df = pd.concat([train_df,dfen],axis=1)\n",
    "train_df = pd.concat([train_df,dfex],axis=1)\n",
    "\n",
    "#Creating Dummies for test Data\n",
    "dfent = pd.get_dummies(test_df[\"EntryHeading\"],prefix = 'en')\n",
    "dfext = pd.get_dummies(test_df[\"ExitHeading\"],prefix = 'ex')\n",
    "test_df = pd.concat([test_df,dfent],axis=1)\n",
    "test_df = pd.concat([test_df,dfext],axis=1)"
   ]
  },
  {
   "cell_type": "code",
   "execution_count": 50,
   "id": "b456bca6",
   "metadata": {},
   "outputs": [],
   "source": [
    "X = train_df[[\"IntersectionId\",\"Hour\",\"Weekend\",\"Month\",'en_E',\n",
    "       'en_N', 'en_NE', 'en_NW', 'en_S', 'en_SE', 'en_SW', 'en_W', 'ex_E',\n",
    "       'ex_N', 'ex_NE', 'ex_NW', 'ex_S', 'ex_SE', 'ex_SW', 'ex_W']]\n",
    "y1 = train_df[\"TotalTimeStopped_p20\"]\n",
    "y2 = train_df[\"TotalTimeStopped_p50\"]\n",
    "y3 = train_df[\"TotalTimeStopped_p80\"]\n",
    "y4 = train_df[\"DistanceToFirstStop_p20\"]\n",
    "y5 = train_df[\"DistanceToFirstStop_p50\"]\n",
    "y6 = train_df[\"DistanceToFirstStop_p80\"]\n",
    "\n",
    "testX = test_df[[\"IntersectionId\",\"Hour\",\"Weekend\",\"Month\",'en_E','en_N', 'en_NE', 'en_NW', 'en_S', \n",
    "              'en_SE', 'en_SW', 'en_W', 'ex_E','ex_N', 'ex_NE', 'ex_NW', 'ex_S', 'ex_SE', 'ex_SW', 'ex_W']]"
   ]
  },
  {
   "cell_type": "code",
   "execution_count": 51,
   "id": "3c5e43ba",
   "metadata": {},
   "outputs": [],
   "source": [
    "start = time.time()"
   ]
  },
  {
   "cell_type": "code",
   "execution_count": 52,
   "id": "eb4e7ad0",
   "metadata": {},
   "outputs": [],
   "source": [
    "RMSE_b2 = []\n",
    "def randomforest(X,Y):\n",
    "    X_train, X_validate, y_train, y_validate = train_test_split(X, Y, test_size = 0.3, random_state = 23)\n",
    "    regressor = RandomForestRegressor(n_estimators = 50,random_state = 23)\n",
    "    regressor.fit(X_train, y_train)\n",
    "    y_pred = regressor.predict(X_validate)\n",
    "    return sqrt(mean_squared_error(y_validate, y_pred))"
   ]
  },
  {
   "cell_type": "code",
   "execution_count": 53,
   "id": "aa93c51c",
   "metadata": {},
   "outputs": [],
   "source": [
    "outcome = [y1,y2,y3,y4,y5,y6]\n",
    "for i in range(len(outcome)):\n",
    "    RMSE = randomforest(X,outcome[i])\n",
    "    RMSE_b2.append(RMSE)  "
   ]
  },
  {
   "cell_type": "code",
   "execution_count": 54,
   "id": "b9eecc8a",
   "metadata": {},
   "outputs": [],
   "source": [
    "end = time.time()"
   ]
  },
  {
   "cell_type": "code",
   "execution_count": 55,
   "id": "a6deaaec",
   "metadata": {},
   "outputs": [
    {
     "name": "stdout",
     "output_type": "stream",
     "text": [
      "Runtime of the program is 553.9090628623962\n"
     ]
    }
   ],
   "source": [
    "print(f\"Runtime of the program is {end - start}\")"
   ]
  },
  {
   "cell_type": "code",
   "execution_count": 56,
   "id": "6186d062",
   "metadata": {},
   "outputs": [
    {
     "name": "stdout",
     "output_type": "stream",
     "text": [
      "[6.427704758202294, 11.858943943670825, 20.495608790598382, 28.405763446555603, 61.97514690397094, 110.59561943366377]\n",
      "\n",
      "Mean RMSE:  39.959797879443634\n"
     ]
    },
    {
     "data": {
      "image/png": "[encoded data removed]",
      "text/plain": [
       "<Figure size 432x288 with 1 Axes>"
      ]
     },
     "metadata": {
      "needs_background": "light"
     },
     "output_type": "display_data"
    }
   ],
   "source": [
    "print(RMSE_b2)\n",
    "print(\"\\nMean RMSE: \", np.mean(RMSE_b2))\n",
    "plt.plot(RMSE_b2)\n",
    "plt.title('RMSE for Baseline 2(Random Forest)')\n",
    "plt.xlabel('Target Variable')\n",
    "plt.ylabel('RMSE Value')\n",
    "plt.show()"
   ]
  },
  {
   "cell_type": "markdown",
   "id": "25b37b3d",
   "metadata": {},
   "source": [
    "## Experiment 3: With value of n_estimators = 100"
   ]
  },
  {
   "cell_type": "code",
   "execution_count": 57,
   "id": "3b459f4c",
   "metadata": {},
   "outputs": [],
   "source": [
    "train_df=pd.read_csv('train.csv')\n",
    "test_df=pd.read_csv('test.csv')"
   ]
  },
  {
   "cell_type": "code",
   "execution_count": 58,
   "id": "19952f20",
   "metadata": {},
   "outputs": [],
   "source": [
    "#Creating Dummies for train Data\n",
    "dfen = pd.get_dummies(train_df[\"EntryHeading\"],prefix = 'en')\n",
    "dfex = pd.get_dummies(train_df[\"ExitHeading\"],prefix = 'ex')\n",
    "train_df = pd.concat([train_df,dfen],axis=1)\n",
    "train_df = pd.concat([train_df,dfex],axis=1)\n",
    "\n",
    "#Creating Dummies for test Data\n",
    "dfent = pd.get_dummies(test_df[\"EntryHeading\"],prefix = 'en')\n",
    "dfext = pd.get_dummies(test_df[\"ExitHeading\"],prefix = 'ex')\n",
    "test_df = pd.concat([test_df,dfent],axis=1)\n",
    "test_df = pd.concat([test_df,dfext],axis=1)"
   ]
  },
  {
   "cell_type": "code",
   "execution_count": 59,
   "id": "42c2d314",
   "metadata": {},
   "outputs": [],
   "source": [
    "X = train_df[[\"IntersectionId\",\"Hour\",\"Weekend\",\"Month\",'en_E',\n",
    "       'en_N', 'en_NE', 'en_NW', 'en_S', 'en_SE', 'en_SW', 'en_W', 'ex_E',\n",
    "       'ex_N', 'ex_NE', 'ex_NW', 'ex_S', 'ex_SE', 'ex_SW', 'ex_W']]\n",
    "y1 = train_df[\"TotalTimeStopped_p20\"]\n",
    "y2 = train_df[\"TotalTimeStopped_p50\"]\n",
    "y3 = train_df[\"TotalTimeStopped_p80\"]\n",
    "y4 = train_df[\"DistanceToFirstStop_p20\"]\n",
    "y5 = train_df[\"DistanceToFirstStop_p50\"]\n",
    "y6 = train_df[\"DistanceToFirstStop_p80\"]\n",
    "\n",
    "testX = test_df[[\"IntersectionId\",\"Hour\",\"Weekend\",\"Month\",'en_E','en_N', 'en_NE', 'en_NW', 'en_S', \n",
    "              'en_SE', 'en_SW', 'en_W', 'ex_E','ex_N', 'ex_NE', 'ex_NW', 'ex_S', 'ex_SE', 'ex_SW', 'ex_W']]"
   ]
  },
  {
   "cell_type": "code",
   "execution_count": 60,
   "id": "96dca9d4",
   "metadata": {},
   "outputs": [],
   "source": [
    "start = time.time()"
   ]
  },
  {
   "cell_type": "code",
   "execution_count": 61,
   "id": "23d65c29",
   "metadata": {},
   "outputs": [],
   "source": [
    "RMSE_b2 = []\n",
    "def randomforest(X,Y):\n",
    "    X_train, X_validate, y_train, y_validate = train_test_split(X, Y, test_size = 0.3, random_state = 23)\n",
    "    regressor = RandomForestRegressor(n_estimators = 100, random_state = 23)\n",
    "    regressor.fit(X_train, y_train)\n",
    "    y_pred = regressor.predict(X_validate)\n",
    "    return sqrt(mean_squared_error(y_validate, y_pred))"
   ]
  },
  {
   "cell_type": "code",
   "execution_count": 62,
   "id": "55b2f8d6",
   "metadata": {},
   "outputs": [],
   "source": [
    "outcome = [y1,y2,y3,y4,y5,y6]\n",
    "for i in range(len(outcome)):\n",
    "    RMSE = randomforest(X,outcome[i])\n",
    "    RMSE_b2.append(RMSE)  "
   ]
  },
  {
   "cell_type": "code",
   "execution_count": 63,
   "id": "6b5e78d1",
   "metadata": {},
   "outputs": [],
   "source": [
    "end = time.time()"
   ]
  },
  {
   "cell_type": "code",
   "execution_count": 64,
   "id": "d39a26a8",
   "metadata": {},
   "outputs": [
    {
     "name": "stdout",
     "output_type": "stream",
     "text": [
      "Runtime of the program is 1126.4324600696564\n"
     ]
    }
   ],
   "source": [
    "print(f\"Runtime of the program is {end - start}\")"
   ]
  },
  {
   "cell_type": "code",
   "execution_count": 65,
   "id": "0fa8e219",
   "metadata": {},
   "outputs": [
    {
     "name": "stdout",
     "output_type": "stream",
     "text": [
      "[6.414427114086553, 11.813477301367145, 20.428190307128894, 28.271881290079516, 61.7127824274199, 110.15213802139468]\n",
      "\n",
      "Mean RMSE:  39.79881607691278\n"
     ]
    },
    {
     "data": {
      "image/png": "[encoded data removed]",
      "text/plain": [
       "<Figure size 432x288 with 1 Axes>"
      ]
     },
     "metadata": {
      "needs_background": "light"
     },
     "output_type": "display_data"
    }
   ],
   "source": [
    "print(RMSE_b2)\n",
    "print(\"\\nMean RMSE: \", np.mean(RMSE_b2))\n",
    "plt.plot(RMSE_b2)\n",
    "plt.title('RMSE for Baseline 2(Random Forest)')\n",
    "plt.xlabel('Target Variable')\n",
    "plt.ylabel('RMSE Value')\n",
    "plt.show()"
   ]
  },
  {
   "cell_type": "markdown",
   "id": "6170c19f",
   "metadata": {},
   "source": [
    "## Thus, from this we can conclude that the value of n_estimators = 50 is the best amongest the three values because it has better performance than the value of 10 and takes half time as compared to value of 100."
   ]
  }
 ],
 "metadata": {
  "kernelspec": {
   "display_name": "Python 3 (ipykernel)",
   "language": "python",
   "name": "python3"
  },
  "language_info": {
   "codemirror_mode": {
    "name": "ipython",
    "version": 3
   },
   "file_extension": ".py",
   "mimetype": "text/x-python",
   "name": "python",
   "nbconvert_exporter": "python",
   "pygments_lexer": "ipython3",
   "version": "3.9.7"
  }
 },
 "nbformat": 4,
 "nbformat_minor": 5
}
