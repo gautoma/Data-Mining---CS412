{
 "cells": [
  {
   "cell_type": "markdown",
   "id": "07d1de49",
   "metadata": {},
   "source": [
    "## Information:\n",
    "This script was used to tune the parameter of eps for DBSCAN.\n",
    "\n",
    "Just run all the cells and you will get the same results and time needed as we did."
   ]
  },
  {
   "cell_type": "markdown",
   "id": "31b1bbea",
   "metadata": {},
   "source": [
    "## Importing the libraries"
   ]
  },
  {
   "cell_type": "code",
   "execution_count": 1,
   "id": "e562bf65",
   "metadata": {},
   "outputs": [],
   "source": [
    "import pandas as pd\n",
    "import numpy as np\n",
    "import matplotlib.pyplot as plt\n",
    "import seaborn as sns\n",
    "from sklearn.linear_model import LinearRegression\n",
    "from sklearn.preprocessing import scale\n",
    "from sklearn.cluster import DBSCAN\n",
    "from sklearn.metrics import mean_squared_error\n",
    "from sklearn.model_selection import train_test_split\n",
    "from math import sqrt\n",
    "import catboost as cb\n",
    "from sklearn.ensemble import RandomForestRegressor\n",
    "import time"
   ]
  },
  {
   "cell_type": "markdown",
   "id": "4982fee6",
   "metadata": {},
   "source": [
    "## Experiment 1: With value of EPS = 0.1"
   ]
  },
  {
   "cell_type": "code",
   "execution_count": 2,
   "id": "7bab4f94",
   "metadata": {},
   "outputs": [],
   "source": [
    "train_df=pd.read_csv('train.csv')\n",
    "test_df=pd.read_csv('test.csv')"
   ]
  },
  {
   "cell_type": "code",
   "execution_count": 3,
   "id": "9ae629d6",
   "metadata": {},
   "outputs": [],
   "source": [
    "def get_dummy(df,column):\n",
    "    df_dummy = pd.get_dummies(df[column], prefix=f'cat{column}')\n",
    "    return df_dummy"
   ]
  },
  {
   "cell_type": "code",
   "execution_count": 4,
   "id": "a8abeab0",
   "metadata": {},
   "outputs": [],
   "source": [
    "needs_encoding = ['EntryHeading','ExitHeading']\n",
    "for i in needs_encoding:\n",
    "    encode = get_dummy(train_df,i)\n",
    "    test_encode = get_dummy(test_df,i)\n",
    "    train_df = pd.concat([train_df, encode], axis=1)\n",
    "    test_df = pd.concat([test_df, encode], axis=1)"
   ]
  },
  {
   "cell_type": "code",
   "execution_count": 5,
   "id": "004b4356",
   "metadata": {},
   "outputs": [],
   "source": [
    "Atlanta_train = train_df[train_df['City']=='Atlanta']\n",
    "Boston_train = train_df[train_df['City']=='Boston']\n",
    "Chicago_train = train_df[train_df['City']=='Chicago']\n",
    "Philadelphia_train = train_df[train_df['City']=='Philadelphia']"
   ]
  },
  {
   "cell_type": "code",
   "execution_count": 6,
   "id": "10d2c84a",
   "metadata": {},
   "outputs": [],
   "source": [
    "model_not_X = ['RowId','EntryStreetName',\n",
    "       'ExitStreetName', 'EntryHeading', 'ExitHeading', 'Weekend',\n",
    "       'Path', 'TotalTimeStopped_p20', 'TotalTimeStopped_p40',\n",
    "       'TotalTimeStopped_p50', 'TotalTimeStopped_p60', 'TotalTimeStopped_p80',\n",
    "       'TimeFromFirstStop_p20', 'TimeFromFirstStop_p40',\n",
    "       'TimeFromFirstStop_p50', 'TimeFromFirstStop_p60',\n",
    "       'TimeFromFirstStop_p80', 'DistanceToFirstStop_p20',\n",
    "       'DistanceToFirstStop_p40', 'DistanceToFirstStop_p50',\n",
    "       'DistanceToFirstStop_p60', 'DistanceToFirstStop_p80', 'City']  "
   ]
  },
  {
   "cell_type": "code",
   "execution_count": 7,
   "id": "43cacafa",
   "metadata": {},
   "outputs": [],
   "source": [
    "Atlanta_X = Atlanta_train.drop(model_not_X, axis = 1)\n",
    "Atlanta_y1 = Atlanta_train[\"TotalTimeStopped_p20\"]\n",
    "Atlanta_y2 = Atlanta_train[\"TotalTimeStopped_p50\"]\n",
    "Atlanta_y3 = Atlanta_train[\"TotalTimeStopped_p80\"]\n",
    "Atlanta_y4 = Atlanta_train[\"DistanceToFirstStop_p20\"]\n",
    "Atlanta_y5 = Atlanta_train[\"DistanceToFirstStop_p50\"]\n",
    "Atlanta_y6 = Atlanta_train[\"DistanceToFirstStop_p80\"]"
   ]
  },
  {
   "cell_type": "code",
   "execution_count": 8,
   "id": "8d7bcc32",
   "metadata": {},
   "outputs": [],
   "source": [
    "Boston_X = Boston_train.drop(model_not_X, axis = 1)\n",
    "Boston_y1 = Boston_train[\"TotalTimeStopped_p20\"]\n",
    "Boston_y2 = Boston_train[\"TotalTimeStopped_p50\"]\n",
    "Boston_y3 = Boston_train[\"TotalTimeStopped_p80\"]\n",
    "Boston_y4 = Boston_train[\"DistanceToFirstStop_p20\"]\n",
    "Boston_y5 = Boston_train[\"DistanceToFirstStop_p50\"]\n",
    "Boston_y6 = Boston_train[\"DistanceToFirstStop_p80\"]"
   ]
  },
  {
   "cell_type": "code",
   "execution_count": 9,
   "id": "ae31e5cb",
   "metadata": {},
   "outputs": [],
   "source": [
    "Chicago_X = Chicago_train.drop(model_not_X, axis = 1)\n",
    "Chicago_y1 = Chicago_train[\"TotalTimeStopped_p20\"]\n",
    "Chicago_y2 = Chicago_train[\"TotalTimeStopped_p50\"]\n",
    "Chicago_y3 = Chicago_train[\"TotalTimeStopped_p80\"]\n",
    "Chicago_y4 = Chicago_train[\"DistanceToFirstStop_p20\"]\n",
    "Chicago_y5 = Chicago_train[\"DistanceToFirstStop_p50\"]\n",
    "Chicago_y6 = Chicago_train[\"DistanceToFirstStop_p80\"]"
   ]
  },
  {
   "cell_type": "code",
   "execution_count": 10,
   "id": "dad73b4e",
   "metadata": {},
   "outputs": [],
   "source": [
    "Philadelphia_X = Philadelphia_train.drop(model_not_X, axis = 1)\n",
    "Philadelphia_y1 = Philadelphia_train[\"TotalTimeStopped_p20\"]\n",
    "Philadelphia_y2 = Philadelphia_train[\"TotalTimeStopped_p50\"]\n",
    "Philadelphia_y3 = Philadelphia_train[\"TotalTimeStopped_p80\"]\n",
    "Philadelphia_y4 = Philadelphia_train[\"DistanceToFirstStop_p20\"]\n",
    "Philadelphia_y5 = Philadelphia_train[\"DistanceToFirstStop_p50\"]\n",
    "Philadelphia_y6 = Philadelphia_train[\"DistanceToFirstStop_p80\"]"
   ]
  },
  {
   "cell_type": "code",
   "execution_count": 11,
   "id": "32c50726",
   "metadata": {},
   "outputs": [],
   "source": [
    "start = time.time()"
   ]
  },
  {
   "cell_type": "code",
   "execution_count": 12,
   "id": "8deb20c1",
   "metadata": {},
   "outputs": [],
   "source": [
    "def clustering(data):\n",
    "    model = DBSCAN(eps=0.1)\n",
    "    model.fit(data)\n",
    "    return model.labels_"
   ]
  },
  {
   "cell_type": "code",
   "execution_count": 13,
   "id": "366926d5",
   "metadata": {},
   "outputs": [],
   "source": [
    "def clustering_plus_randomforest(X, Y):\n",
    "    clustering_variables = ['Latitude', 'Longitude','Hour','Month']\n",
    "    clustering_model_data = X.loc[:,clustering_variables]\n",
    "    labels = clustering(clustering_model_data)\n",
    "    X[\"clusteringlabel\"] = labels\n",
    "    \n",
    "    #Creating the training and test sets\n",
    "    X_train, X_validate, y_train, y_validate = train_test_split(X, Y, test_size = 0.3,random_state = 23)\n",
    "    \n",
    "    #Creating the random forest regressor object\n",
    "    regressor = RandomForestRegressor(n_estimators = 50, random_state = 23)\n",
    "\n",
    "    #Fitting the regressor with training data\n",
    "    regressor.fit(X_train, y_train)\n",
    "    \n",
    "    #Making predictions for the testing data\n",
    "    y_pred = regressor.predict(X_validate)\n",
    "\n",
    "    #Returning the RSME value\n",
    "    return sqrt(mean_squared_error(y_validate, y_pred))"
   ]
  },
  {
   "cell_type": "code",
   "execution_count": 14,
   "id": "e043b590",
   "metadata": {},
   "outputs": [],
   "source": [
    "#Boston\n",
    "Boston_outcome = [Boston_y1,Boston_y2,Boston_y3,Boston_y4,Boston_y5,Boston_y6]\n",
    "Boston_rmse = []\n",
    "for i in range(len(Boston_outcome)):\n",
    "    RMSE = clustering_plus_randomforest(Boston_X, Boston_outcome[i])\n",
    "    Boston_rmse.append(RMSE)"
   ]
  },
  {
   "cell_type": "code",
   "execution_count": 15,
   "id": "ec763f82",
   "metadata": {},
   "outputs": [],
   "source": [
    "#Atlanta\n",
    "Atlanta_outcome = [Atlanta_y1,Atlanta_y2,Atlanta_y3,Atlanta_y4,Atlanta_y5,Atlanta_y6]\n",
    "Atlanta_rmse = []\n",
    "for i in range(len(Atlanta_outcome)):\n",
    "    RMSE = clustering_plus_randomforest(Atlanta_X, Atlanta_outcome[i])\n",
    "    Atlanta_rmse.append(RMSE)"
   ]
  },
  {
   "cell_type": "code",
   "execution_count": 16,
   "id": "f611f35a",
   "metadata": {},
   "outputs": [],
   "source": [
    "#Chicago\n",
    "Chicago_outcome = [Chicago_y1,Chicago_y2,Chicago_y3,Chicago_y4,Chicago_y5,Chicago_y6]\n",
    "Chicago_rmse = []\n",
    "for i in range(len(Chicago_outcome)):\n",
    "    RMSE = clustering_plus_randomforest(Chicago_X, Chicago_outcome[i])\n",
    "    Chicago_rmse.append(RMSE)"
   ]
  },
  {
   "cell_type": "code",
   "execution_count": 17,
   "id": "642350bc",
   "metadata": {},
   "outputs": [],
   "source": [
    "#Philadelphia    \n",
    "Philadelphia_outcome = [Philadelphia_y1,Philadelphia_y2,Philadelphia_y3,Philadelphia_y4,Philadelphia_y5,Philadelphia_y6]\n",
    "Philadelphia_rmse = []\n",
    "for i in range(len(Philadelphia_outcome)):\n",
    "    RMSE = clustering_plus_randomforest(Philadelphia_X, Philadelphia_outcome[i])\n",
    "    Philadelphia_rmse.append(RMSE) "
   ]
  },
  {
   "cell_type": "code",
   "execution_count": 18,
   "id": "63d92291",
   "metadata": {},
   "outputs": [
    {
     "name": "stdout",
     "output_type": "stream",
     "text": [
      "[6.371884340408322, 11.20185218571515, 18.82439883256455, 25.143348616258866, 50.24621749618439, 86.74760499816948]\n",
      "\n",
      "Mean RMSE:  33.089217744883456\n"
     ]
    },
    {
     "data": {
      "image/png": "[encoded data removed]",
      "text/plain": [
       "<Figure size 432x288 with 1 Axes>"
      ]
     },
     "metadata": {
      "needs_background": "light"
     },
     "output_type": "display_data"
    }
   ],
   "source": [
    "RMSE_new = []\n",
    "for i in range(len(Boston_rmse)):\n",
    "    RMSE = np.mean([Boston_rmse[i],Atlanta_rmse[i],Chicago_rmse[i],Philadelphia_rmse[i]])\n",
    "    RMSE_new.append(RMSE)\n",
    "print(RMSE_new)\n",
    "print(\"\\nMean RMSE: \", np.mean(RMSE_new))\n",
    "plt.plot(RMSE_new)\n",
    "plt.title('RMSE for Proposed Method')\n",
    "plt.xlabel('Target Variable')\n",
    "plt.ylabel('RMSE Value')\n",
    "plt.show()    "
   ]
  },
  {
   "cell_type": "code",
   "execution_count": 19,
   "id": "253ae14e",
   "metadata": {},
   "outputs": [
    {
     "name": "stdout",
     "output_type": "stream",
     "text": [
      "Runtime of the program is 979.1455018520355\n"
     ]
    }
   ],
   "source": [
    "end = time.time()\n",
    "print(f\"Runtime of the program is {end - start}\")"
   ]
  },
  {
   "cell_type": "markdown",
   "id": "0a0d526d",
   "metadata": {},
   "source": [
    "## Experiment 2: With value of EPS = 0.5"
   ]
  },
  {
   "cell_type": "code",
   "execution_count": 20,
   "id": "b57379a5",
   "metadata": {},
   "outputs": [],
   "source": [
    "train_df=pd.read_csv('train.csv')\n",
    "test_df=pd.read_csv('test.csv')"
   ]
  },
  {
   "cell_type": "code",
   "execution_count": 21,
   "id": "4c3007d9",
   "metadata": {},
   "outputs": [],
   "source": [
    "def get_dummy(df,column):\n",
    "    df_dummy = pd.get_dummies(df[column], prefix=f'cat{column}')\n",
    "    return df_dummy"
   ]
  },
  {
   "cell_type": "code",
   "execution_count": 22,
   "id": "2d5dc377",
   "metadata": {},
   "outputs": [],
   "source": [
    "needs_encoding = ['EntryHeading','ExitHeading']\n",
    "for i in needs_encoding:\n",
    "    encode = get_dummy(train_df,i)\n",
    "    test_encode = get_dummy(test_df,i)\n",
    "    train_df = pd.concat([train_df, encode], axis=1)\n",
    "    test_df = pd.concat([test_df, encode], axis=1)"
   ]
  },
  {
   "cell_type": "code",
   "execution_count": 23,
   "id": "76d2197f",
   "metadata": {},
   "outputs": [],
   "source": [
    "Atlanta_train = train_df[train_df['City']=='Atlanta']\n",
    "Boston_train = train_df[train_df['City']=='Boston']\n",
    "Chicago_train = train_df[train_df['City']=='Chicago']\n",
    "Philadelphia_train = train_df[train_df['City']=='Philadelphia']"
   ]
  },
  {
   "cell_type": "code",
   "execution_count": 24,
   "id": "c6ea7e2b",
   "metadata": {},
   "outputs": [],
   "source": [
    "model_not_X = ['RowId','EntryStreetName',\n",
    "       'ExitStreetName', 'EntryHeading', 'ExitHeading', 'Weekend',\n",
    "       'Path', 'TotalTimeStopped_p20', 'TotalTimeStopped_p40',\n",
    "       'TotalTimeStopped_p50', 'TotalTimeStopped_p60', 'TotalTimeStopped_p80',\n",
    "       'TimeFromFirstStop_p20', 'TimeFromFirstStop_p40',\n",
    "       'TimeFromFirstStop_p50', 'TimeFromFirstStop_p60',\n",
    "       'TimeFromFirstStop_p80', 'DistanceToFirstStop_p20',\n",
    "       'DistanceToFirstStop_p40', 'DistanceToFirstStop_p50',\n",
    "       'DistanceToFirstStop_p60', 'DistanceToFirstStop_p80', 'City']  "
   ]
  },
  {
   "cell_type": "code",
   "execution_count": 25,
   "id": "49354c26",
   "metadata": {},
   "outputs": [],
   "source": [
    "Atlanta_X = Atlanta_train.drop(model_not_X, axis = 1)\n",
    "Atlanta_y1 = Atlanta_train[\"TotalTimeStopped_p20\"]\n",
    "Atlanta_y2 = Atlanta_train[\"TotalTimeStopped_p50\"]\n",
    "Atlanta_y3 = Atlanta_train[\"TotalTimeStopped_p80\"]\n",
    "Atlanta_y4 = Atlanta_train[\"DistanceToFirstStop_p20\"]\n",
    "Atlanta_y5 = Atlanta_train[\"DistanceToFirstStop_p50\"]\n",
    "Atlanta_y6 = Atlanta_train[\"DistanceToFirstStop_p80\"]"
   ]
  },
  {
   "cell_type": "code",
   "execution_count": 26,
   "id": "2a54ae4a",
   "metadata": {},
   "outputs": [],
   "source": [
    "Boston_X = Boston_train.drop(model_not_X, axis = 1)\n",
    "Boston_y1 = Boston_train[\"TotalTimeStopped_p20\"]\n",
    "Boston_y2 = Boston_train[\"TotalTimeStopped_p50\"]\n",
    "Boston_y3 = Boston_train[\"TotalTimeStopped_p80\"]\n",
    "Boston_y4 = Boston_train[\"DistanceToFirstStop_p20\"]\n",
    "Boston_y5 = Boston_train[\"DistanceToFirstStop_p50\"]\n",
    "Boston_y6 = Boston_train[\"DistanceToFirstStop_p80\"]"
   ]
  },
  {
   "cell_type": "code",
   "execution_count": 27,
   "id": "4b59a3c5",
   "metadata": {},
   "outputs": [],
   "source": [
    "Chicago_X = Chicago_train.drop(model_not_X, axis = 1)\n",
    "Chicago_y1 = Chicago_train[\"TotalTimeStopped_p20\"]\n",
    "Chicago_y2 = Chicago_train[\"TotalTimeStopped_p50\"]\n",
    "Chicago_y3 = Chicago_train[\"TotalTimeStopped_p80\"]\n",
    "Chicago_y4 = Chicago_train[\"DistanceToFirstStop_p20\"]\n",
    "Chicago_y5 = Chicago_train[\"DistanceToFirstStop_p50\"]\n",
    "Chicago_y6 = Chicago_train[\"DistanceToFirstStop_p80\"]"
   ]
  },
  {
   "cell_type": "code",
   "execution_count": 28,
   "id": "2993cbe1",
   "metadata": {},
   "outputs": [],
   "source": [
    "Philadelphia_X = Philadelphia_train.drop(model_not_X, axis = 1)\n",
    "Philadelphia_y1 = Philadelphia_train[\"TotalTimeStopped_p20\"]\n",
    "Philadelphia_y2 = Philadelphia_train[\"TotalTimeStopped_p50\"]\n",
    "Philadelphia_y3 = Philadelphia_train[\"TotalTimeStopped_p80\"]\n",
    "Philadelphia_y4 = Philadelphia_train[\"DistanceToFirstStop_p20\"]\n",
    "Philadelphia_y5 = Philadelphia_train[\"DistanceToFirstStop_p50\"]\n",
    "Philadelphia_y6 = Philadelphia_train[\"DistanceToFirstStop_p80\"]"
   ]
  },
  {
   "cell_type": "code",
   "execution_count": 29,
   "id": "236a976c",
   "metadata": {},
   "outputs": [],
   "source": [
    "start = time.time()"
   ]
  },
  {
   "cell_type": "code",
   "execution_count": 30,
   "id": "b609bc48",
   "metadata": {},
   "outputs": [],
   "source": [
    "def clustering(data):\n",
    "    model = DBSCAN(eps=0.5)\n",
    "    model.fit(data)\n",
    "    return model.labels_"
   ]
  },
  {
   "cell_type": "code",
   "execution_count": 31,
   "id": "4d7c92e3",
   "metadata": {},
   "outputs": [],
   "source": [
    "def clustering_plus_randomforest(X, Y):\n",
    "    clustering_variables = ['Latitude', 'Longitude','Hour','Month']\n",
    "    clustering_model_data = X.loc[:,clustering_variables]\n",
    "    labels = clustering(clustering_model_data)\n",
    "    X[\"clusteringlabel\"] = labels\n",
    "    \n",
    "    #Creating the training and test sets\n",
    "    X_train, X_validate, y_train, y_validate = train_test_split(X, Y, test_size = 0.3,random_state = 23)\n",
    "    \n",
    "    #Creating the random forest regressor object\n",
    "    regressor = RandomForestRegressor(n_estimators = 50, random_state = 23)\n",
    "\n",
    "    #Fitting the regressor with training data\n",
    "    regressor.fit(X_train, y_train)\n",
    "    \n",
    "    #Making predictions for the testing data\n",
    "    y_pred = regressor.predict(X_validate)\n",
    "\n",
    "    #Returning the RSME value\n",
    "    return sqrt(mean_squared_error(y_validate, y_pred))"
   ]
  },
  {
   "cell_type": "code",
   "execution_count": 32,
   "id": "d177004e",
   "metadata": {},
   "outputs": [],
   "source": [
    "#Boston\n",
    "Boston_outcome = [Boston_y1,Boston_y2,Boston_y3,Boston_y4,Boston_y5,Boston_y6]\n",
    "Boston_rmse = []\n",
    "for i in range(len(Boston_outcome)):\n",
    "    RMSE = clustering_plus_randomforest(Boston_X, Boston_outcome[i])\n",
    "    Boston_rmse.append(RMSE)"
   ]
  },
  {
   "cell_type": "code",
   "execution_count": 33,
   "id": "d0b6bb5a",
   "metadata": {},
   "outputs": [],
   "source": [
    "#Atlanta\n",
    "Atlanta_outcome = [Atlanta_y1,Atlanta_y2,Atlanta_y3,Atlanta_y4,Atlanta_y5,Atlanta_y6]\n",
    "Atlanta_rmse = []\n",
    "for i in range(len(Atlanta_outcome)):\n",
    "    RMSE = clustering_plus_randomforest(Atlanta_X, Atlanta_outcome[i])\n",
    "    Atlanta_rmse.append(RMSE)"
   ]
  },
  {
   "cell_type": "code",
   "execution_count": 34,
   "id": "4c7feb11",
   "metadata": {},
   "outputs": [],
   "source": [
    "#Chicago\n",
    "Chicago_outcome = [Chicago_y1,Chicago_y2,Chicago_y3,Chicago_y4,Chicago_y5,Chicago_y6]\n",
    "Chicago_rmse = []\n",
    "for i in range(len(Chicago_outcome)):\n",
    "    RMSE = clustering_plus_randomforest(Chicago_X, Chicago_outcome[i])\n",
    "    Chicago_rmse.append(RMSE)"
   ]
  },
  {
   "cell_type": "code",
   "execution_count": 35,
   "id": "107b79bc",
   "metadata": {},
   "outputs": [],
   "source": [
    "#Philadelphia    \n",
    "Philadelphia_outcome = [Philadelphia_y1,Philadelphia_y2,Philadelphia_y3,Philadelphia_y4,Philadelphia_y5,Philadelphia_y6]\n",
    "Philadelphia_rmse = []\n",
    "for i in range(len(Philadelphia_outcome)):\n",
    "    RMSE = clustering_plus_randomforest(Philadelphia_X, Philadelphia_outcome[i])\n",
    "    Philadelphia_rmse.append(RMSE) "
   ]
  },
  {
   "cell_type": "code",
   "execution_count": 36,
   "id": "f59a9347",
   "metadata": {},
   "outputs": [
    {
     "name": "stdout",
     "output_type": "stream",
     "text": [
      "[6.370148548016179, 11.197254077937405, 18.82317034124862, 25.154462864151114, 50.26752136313581, 86.66250088619314]\n",
      "\n",
      "Mean RMSE:  33.07917634678038\n"
     ]
    },
    {
     "data": {
      "image/png": "[encoded data removed]",
      "text/plain": [
       "<Figure size 432x288 with 1 Axes>"
      ]
     },
     "metadata": {
      "needs_background": "light"
     },
     "output_type": "display_data"
    }
   ],
   "source": [
    "RMSE_new = []\n",
    "for i in range(len(Boston_rmse)):\n",
    "    RMSE = np.mean([Boston_rmse[i],Atlanta_rmse[i],Chicago_rmse[i],Philadelphia_rmse[i]])\n",
    "    RMSE_new.append(RMSE)\n",
    "print(RMSE_new)\n",
    "print(\"\\nMean RMSE: \", np.mean(RMSE_new))\n",
    "plt.plot(RMSE_new)\n",
    "plt.title('RMSE for Proposed Method')\n",
    "plt.xlabel('Target Variable')\n",
    "plt.ylabel('RMSE Value')\n",
    "plt.show()   "
   ]
  },
  {
   "cell_type": "code",
   "execution_count": 37,
   "id": "09df5c7d",
   "metadata": {},
   "outputs": [
    {
     "name": "stdout",
     "output_type": "stream",
     "text": [
      "Runtime of the program is 846.3155250549316\n"
     ]
    }
   ],
   "source": [
    "end = time.time()\n",
    "print(f\"Runtime of the program is {end - start}\")"
   ]
  },
  {
   "cell_type": "markdown",
   "id": "8692a881",
   "metadata": {},
   "source": [
    "## Experiment 3: With value of EPS = 0.9"
   ]
  },
  {
   "cell_type": "code",
   "execution_count": 38,
   "id": "a31a7ed6",
   "metadata": {},
   "outputs": [],
   "source": [
    "train_df=pd.read_csv('train.csv')\n",
    "test_df=pd.read_csv('test.csv')"
   ]
  },
  {
   "cell_type": "code",
   "execution_count": 39,
   "id": "7be9d164",
   "metadata": {},
   "outputs": [],
   "source": [
    "def get_dummy(df,column):\n",
    "    df_dummy = pd.get_dummies(df[column], prefix=f'cat{column}')\n",
    "    return df_dummy"
   ]
  },
  {
   "cell_type": "code",
   "execution_count": 40,
   "id": "9d8fd5aa",
   "metadata": {},
   "outputs": [],
   "source": [
    "needs_encoding = ['EntryHeading','ExitHeading']\n",
    "for i in needs_encoding:\n",
    "    encode = get_dummy(train_df,i)\n",
    "    test_encode = get_dummy(test_df,i)\n",
    "    train_df = pd.concat([train_df, encode], axis=1)\n",
    "    test_df = pd.concat([test_df, encode], axis=1)"
   ]
  },
  {
   "cell_type": "code",
   "execution_count": 41,
   "id": "c1ed192d",
   "metadata": {},
   "outputs": [],
   "source": [
    "Atlanta_train = train_df[train_df['City']=='Atlanta']\n",
    "Boston_train = train_df[train_df['City']=='Boston']\n",
    "Chicago_train = train_df[train_df['City']=='Chicago']\n",
    "Philadelphia_train = train_df[train_df['City']=='Philadelphia']"
   ]
  },
  {
   "cell_type": "code",
   "execution_count": 42,
   "id": "ded73934",
   "metadata": {},
   "outputs": [],
   "source": [
    "model_not_X = ['RowId','EntryStreetName',\n",
    "       'ExitStreetName', 'EntryHeading', 'ExitHeading', 'Weekend',\n",
    "       'Path', 'TotalTimeStopped_p20', 'TotalTimeStopped_p40',\n",
    "       'TotalTimeStopped_p50', 'TotalTimeStopped_p60', 'TotalTimeStopped_p80',\n",
    "       'TimeFromFirstStop_p20', 'TimeFromFirstStop_p40',\n",
    "       'TimeFromFirstStop_p50', 'TimeFromFirstStop_p60',\n",
    "       'TimeFromFirstStop_p80', 'DistanceToFirstStop_p20',\n",
    "       'DistanceToFirstStop_p40', 'DistanceToFirstStop_p50',\n",
    "       'DistanceToFirstStop_p60', 'DistanceToFirstStop_p80', 'City']  "
   ]
  },
  {
   "cell_type": "code",
   "execution_count": 43,
   "id": "fef2c908",
   "metadata": {},
   "outputs": [],
   "source": [
    "Atlanta_X = Atlanta_train.drop(model_not_X, axis = 1)\n",
    "Atlanta_y1 = Atlanta_train[\"TotalTimeStopped_p20\"]\n",
    "Atlanta_y2 = Atlanta_train[\"TotalTimeStopped_p50\"]\n",
    "Atlanta_y3 = Atlanta_train[\"TotalTimeStopped_p80\"]\n",
    "Atlanta_y4 = Atlanta_train[\"DistanceToFirstStop_p20\"]\n",
    "Atlanta_y5 = Atlanta_train[\"DistanceToFirstStop_p50\"]\n",
    "Atlanta_y6 = Atlanta_train[\"DistanceToFirstStop_p80\"]"
   ]
  },
  {
   "cell_type": "code",
   "execution_count": 44,
   "id": "6d6413a6",
   "metadata": {},
   "outputs": [],
   "source": [
    "Boston_X = Boston_train.drop(model_not_X, axis = 1)\n",
    "Boston_y1 = Boston_train[\"TotalTimeStopped_p20\"]\n",
    "Boston_y2 = Boston_train[\"TotalTimeStopped_p50\"]\n",
    "Boston_y3 = Boston_train[\"TotalTimeStopped_p80\"]\n",
    "Boston_y4 = Boston_train[\"DistanceToFirstStop_p20\"]\n",
    "Boston_y5 = Boston_train[\"DistanceToFirstStop_p50\"]\n",
    "Boston_y6 = Boston_train[\"DistanceToFirstStop_p80\"]"
   ]
  },
  {
   "cell_type": "code",
   "execution_count": 45,
   "id": "f15101ba",
   "metadata": {},
   "outputs": [],
   "source": [
    "Chicago_X = Chicago_train.drop(model_not_X, axis = 1)\n",
    "Chicago_y1 = Chicago_train[\"TotalTimeStopped_p20\"]\n",
    "Chicago_y2 = Chicago_train[\"TotalTimeStopped_p50\"]\n",
    "Chicago_y3 = Chicago_train[\"TotalTimeStopped_p80\"]\n",
    "Chicago_y4 = Chicago_train[\"DistanceToFirstStop_p20\"]\n",
    "Chicago_y5 = Chicago_train[\"DistanceToFirstStop_p50\"]\n",
    "Chicago_y6 = Chicago_train[\"DistanceToFirstStop_p80\"]"
   ]
  },
  {
   "cell_type": "code",
   "execution_count": 46,
   "id": "44926f53",
   "metadata": {},
   "outputs": [],
   "source": [
    "Philadelphia_X = Philadelphia_train.drop(model_not_X, axis = 1)\n",
    "Philadelphia_y1 = Philadelphia_train[\"TotalTimeStopped_p20\"]\n",
    "Philadelphia_y2 = Philadelphia_train[\"TotalTimeStopped_p50\"]\n",
    "Philadelphia_y3 = Philadelphia_train[\"TotalTimeStopped_p80\"]\n",
    "Philadelphia_y4 = Philadelphia_train[\"DistanceToFirstStop_p20\"]\n",
    "Philadelphia_y5 = Philadelphia_train[\"DistanceToFirstStop_p50\"]\n",
    "Philadelphia_y6 = Philadelphia_train[\"DistanceToFirstStop_p80\"]"
   ]
  },
  {
   "cell_type": "code",
   "execution_count": 47,
   "id": "26a506b2",
   "metadata": {},
   "outputs": [],
   "source": [
    "start = time.time()"
   ]
  },
  {
   "cell_type": "code",
   "execution_count": 48,
   "id": "90d17013",
   "metadata": {},
   "outputs": [],
   "source": [
    "def clustering(data):\n",
    "    model = DBSCAN(eps=0.9)\n",
    "    model.fit(data)\n",
    "    return model.labels_"
   ]
  },
  {
   "cell_type": "code",
   "execution_count": 49,
   "id": "51c15d7a",
   "metadata": {},
   "outputs": [],
   "source": [
    "def clustering_plus_randomforest(X, Y):\n",
    "    clustering_variables = ['Latitude', 'Longitude','Hour','Month']\n",
    "    clustering_model_data = X.loc[:,clustering_variables]\n",
    "    labels = clustering(clustering_model_data)\n",
    "    X[\"clusteringlabel\"] = labels\n",
    "    \n",
    "    #Creating the training and test sets\n",
    "    X_train, X_validate, y_train, y_validate = train_test_split(X, Y, test_size = 0.3,random_state = 23)\n",
    "    \n",
    "    #Creating the random forest regressor object\n",
    "    regressor = RandomForestRegressor(n_estimators = 50, random_state = 23)\n",
    "\n",
    "    #Fitting the regressor with training data\n",
    "    regressor.fit(X_train, y_train)\n",
    "    \n",
    "    #Making predictions for the testing data\n",
    "    y_pred = regressor.predict(X_validate)\n",
    "\n",
    "    #Returning the RSME value\n",
    "    return sqrt(mean_squared_error(y_validate, y_pred))"
   ]
  },
  {
   "cell_type": "code",
   "execution_count": 50,
   "id": "3afc4867",
   "metadata": {},
   "outputs": [],
   "source": [
    "#Boston\n",
    "Boston_outcome = [Boston_y1,Boston_y2,Boston_y3,Boston_y4,Boston_y5,Boston_y6]\n",
    "Boston_rmse = []\n",
    "for i in range(len(Boston_outcome)):\n",
    "    RMSE = clustering_plus_randomforest(Boston_X, Boston_outcome[i])\n",
    "    Boston_rmse.append(RMSE)"
   ]
  },
  {
   "cell_type": "code",
   "execution_count": 51,
   "id": "54d9ab66",
   "metadata": {},
   "outputs": [],
   "source": [
    "#Atlanta\n",
    "Atlanta_outcome = [Atlanta_y1,Atlanta_y2,Atlanta_y3,Atlanta_y4,Atlanta_y5,Atlanta_y6]\n",
    "Atlanta_rmse = []\n",
    "for i in range(len(Atlanta_outcome)):\n",
    "    RMSE = clustering_plus_randomforest(Atlanta_X, Atlanta_outcome[i])\n",
    "    Atlanta_rmse.append(RMSE)"
   ]
  },
  {
   "cell_type": "code",
   "execution_count": 52,
   "id": "fabbaade",
   "metadata": {},
   "outputs": [],
   "source": [
    "#Chicago\n",
    "Chicago_outcome = [Chicago_y1,Chicago_y2,Chicago_y3,Chicago_y4,Chicago_y5,Chicago_y6]\n",
    "Chicago_rmse = []\n",
    "for i in range(len(Chicago_outcome)):\n",
    "    RMSE = clustering_plus_randomforest(Chicago_X, Chicago_outcome[i])\n",
    "    Chicago_rmse.append(RMSE)"
   ]
  },
  {
   "cell_type": "code",
   "execution_count": 53,
   "id": "ddd220ba",
   "metadata": {},
   "outputs": [],
   "source": [
    "#Philadelphia    \n",
    "Philadelphia_outcome = [Philadelphia_y1,Philadelphia_y2,Philadelphia_y3,Philadelphia_y4,Philadelphia_y5,Philadelphia_y6]\n",
    "Philadelphia_rmse = []\n",
    "for i in range(len(Philadelphia_outcome)):\n",
    "    RMSE = clustering_plus_randomforest(Philadelphia_X, Philadelphia_outcome[i])\n",
    "    Philadelphia_rmse.append(RMSE) "
   ]
  },
  {
   "cell_type": "code",
   "execution_count": 54,
   "id": "33e4ff97",
   "metadata": {},
   "outputs": [
    {
     "name": "stdout",
     "output_type": "stream",
     "text": [
      "[6.370148548016179, 11.197254077937405, 18.82317034124862, 25.154462864151114, 50.26752136313581, 86.66250088619314]\n",
      "\n",
      "Mean RMSE:  33.07917634678038\n"
     ]
    },
    {
     "data": {
      "image/png": "[encoded data removed]",
      "text/plain": [
       "<Figure size 432x288 with 1 Axes>"
      ]
     },
     "metadata": {
      "needs_background": "light"
     },
     "output_type": "display_data"
    }
   ],
   "source": [
    "RMSE_new = []\n",
    "for i in range(len(Boston_rmse)):\n",
    "    RMSE = np.mean([Boston_rmse[i],Atlanta_rmse[i],Chicago_rmse[i],Philadelphia_rmse[i]])\n",
    "    RMSE_new.append(RMSE)\n",
    "print(RMSE_new)\n",
    "print(\"\\nMean RMSE: \", np.mean(RMSE_new))\n",
    "plt.plot(RMSE_new)\n",
    "plt.title('RMSE for Proposed Method')\n",
    "plt.xlabel('Target Variable')\n",
    "plt.ylabel('RMSE Value')\n",
    "plt.show()  "
   ]
  },
  {
   "cell_type": "code",
   "execution_count": 55,
   "id": "e1c34968",
   "metadata": {},
   "outputs": [
    {
     "name": "stdout",
     "output_type": "stream",
     "text": [
      "Runtime of the program is 727.1185600757599\n"
     ]
    }
   ],
   "source": [
    "end = time.time()\n",
    "print(f\"Runtime of the program is {end - start}\")"
   ]
  },
  {
   "cell_type": "markdown",
   "id": "6adf24e3",
   "metadata": {},
   "source": [
    "## Thus, from this we can conclude that the value of eps = 0.9 performs the best and needs the least amount of computational time"
   ]
  }
 ],
 "metadata": {
  "kernelspec": {
   "display_name": "Python 3 (ipykernel)",
   "language": "python",
   "name": "python3"
  },
  "language_info": {
   "codemirror_mode": {
    "name": "ipython",
    "version": 3
   },
   "file_extension": ".py",
   "mimetype": "text/x-python",
   "name": "python",
   "nbconvert_exporter": "python",
   "pygments_lexer": "ipython3",
   "version": "3.9.7"
  }
 },
 "nbformat": 4,
 "nbformat_minor": 5
}
